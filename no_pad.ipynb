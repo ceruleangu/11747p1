{
  "nbformat": 4,
  "nbformat_minor": 0,
  "metadata": {
    "colab": {
      "name": "no_pad.ipynb",
      "provenance": [],
      "collapsed_sections": []
    },
    "kernelspec": {
      "name": "python3",
      "display_name": "Python 3"
    },
    "accelerator": "GPU"
  },
  "cells": [
    {
      "cell_type": "code",
      "metadata": {
        "id": "kojWpZ63-mbu",
        "colab_type": "code",
        "outputId": "f5a86fd4-1e34-4ad6-f31c-6cd58ffbb7b8",
        "colab": {
          "base_uri": "https://localhost:8080/",
          "height": 122
        }
      },
      "source": [
        "from google.colab import drive\n",
        "drive.mount('/content/drive')"
      ],
      "execution_count": 1,
      "outputs": [
        {
          "output_type": "stream",
          "text": [
            "Go to this URL in a browser: https://accounts.google.com/o/oauth2/auth?client_id=947318989803-6bn6qk8qdgf4n4g3pfee6491hc0brc4i.apps.googleusercontent.com&redirect_uri=urn%3aietf%3awg%3aoauth%3a2.0%3aoob&response_type=code&scope=email%20https%3a%2f%2fwww.googleapis.com%2fauth%2fdocs.test%20https%3a%2f%2fwww.googleapis.com%2fauth%2fdrive%20https%3a%2f%2fwww.googleapis.com%2fauth%2fdrive.photos.readonly%20https%3a%2f%2fwww.googleapis.com%2fauth%2fpeopleapi.readonly\n",
            "\n",
            "Enter your authorization code:\n",
            "··········\n",
            "Mounted at /content/drive\n"
          ],
          "name": "stdout"
        }
      ]
    },
    {
      "cell_type": "code",
      "metadata": {
        "id": "Abd2k6_sFEjq",
        "colab_type": "code",
        "colab": {}
      },
      "source": [
        "import os\n",
        "import numpy as np\n",
        "import pickle\n",
        "from collections import defaultdict\n",
        "import sys, re\n",
        "import pandas as pd\n",
        "import re\n",
        "from tqdm import tqdm\n",
        "import matplotlib.pyplot as plt\n",
        "\n",
        "home_dir = '/content/drive/My Drive/11747/'\n",
        "\n",
        "# dataset path\n",
        "train_path = home_dir + 'topicclass/topicclass_train.txt'\n",
        "valid_path = home_dir + 'topicclass/topicclass_valid.txt'\n",
        "test_path = home_dir + 'topicclass/topicclass_test.txt'"
      ],
      "execution_count": 0,
      "outputs": []
    },
    {
      "cell_type": "markdown",
      "metadata": {
        "id": "NNpUL_FhIw3u",
        "colab_type": "text"
      },
      "source": [
        "# Data Pre-process"
      ]
    },
    {
      "cell_type": "code",
      "metadata": {
        "id": "p4sofqdhKsF0",
        "colab_type": "code",
        "colab": {}
      },
      "source": [
        "def load_data(filename):\n",
        "  text = []\n",
        "  labels = []\n",
        "  length_vec = []\n",
        "  word_dict = defaultdict(int)\n",
        "  with open(filename, \"r\") as f:\n",
        "      for line in f:\n",
        "          tag, words = line.strip().split(\" ||| \")\n",
        "          # remove weird words as such @\n",
        "          s = re.sub(r\"[^A-Za-z0-9()!#$%&*+,./:;<=>?\\[\\\\\\]{|~}–\\\"\\-\\'\\`]\", \" \", words)\n",
        "          text.append(s)\n",
        "          labels.append(tag)\n",
        "          s_split = s.split()\n",
        "          for w in s_split:\n",
        "              word_dict[w] += 1\n",
        "          length_vec.append(len(s_split))\n",
        "      return text, labels, word_dict, length_vec"
      ],
      "execution_count": 0,
      "outputs": []
    },
    {
      "cell_type": "code",
      "metadata": {
        "id": "v1SbEBkbbHRw",
        "colab_type": "code",
        "outputId": "ec614665-435a-4e1a-f660-00ed539bd287",
        "colab": {
          "base_uri": "https://localhost:8080/",
          "height": 51
        }
      },
      "source": [
        "x_train, y_train, word_dict_train, length_vec_train = load_data(train_path)\n",
        "print(\"total train set: \", len(x_train))\n",
        "print('number of all vocab', len(word_dict_train))"
      ],
      "execution_count": 14,
      "outputs": [
        {
          "output_type": "stream",
          "text": [
            "total train set:  253909\n",
            "number of all vocab 131801\n"
          ],
          "name": "stdout"
        }
      ]
    },
    {
      "cell_type": "code",
      "metadata": {
        "id": "n82yyoGxwors",
        "colab_type": "code",
        "outputId": "b4556428-c196-42e3-aeb2-9aac8be4f4cd",
        "colab": {
          "base_uri": "https://localhost:8080/",
          "height": 289
        }
      },
      "source": [
        "num_classes = len(set(y_train))\n",
        "label2idx_dict = {}\n",
        "idx2label = {}\n",
        "i = 0\n",
        "for label in set(y_train):\n",
        "  label2idx_dict[label] = i\n",
        "  idx2label[i] = label\n",
        "  i += 1\n",
        "\n",
        "label2idx_dict"
      ],
      "execution_count": 5,
      "outputs": [
        {
          "output_type": "execute_result",
          "data": {
            "text/plain": [
              "{'Agriculture, food and drink': 4,\n",
              " 'Art and architecture': 7,\n",
              " 'Engineering and technology': 14,\n",
              " 'Geography and places': 10,\n",
              " 'History': 5,\n",
              " 'Language and literature': 1,\n",
              " 'Mathematics': 6,\n",
              " 'Media and drama': 2,\n",
              " 'Miscellaneous': 0,\n",
              " 'Music': 13,\n",
              " 'Natural sciences': 3,\n",
              " 'Philosophy and religion': 11,\n",
              " 'Social sciences and society': 15,\n",
              " 'Sports and recreation': 12,\n",
              " 'Video games': 9,\n",
              " 'Warfare': 8}"
            ]
          },
          "metadata": {
            "tags": []
          },
          "execution_count": 5
        }
      ]
    },
    {
      "cell_type": "code",
      "metadata": {
        "id": "7ViZ99EkCH-u",
        "colab_type": "code",
        "colab": {
          "base_uri": "https://localhost:8080/",
          "height": 289
        },
        "outputId": "26d85cc0-f82b-46fd-dad1-77d40d30450f"
      },
      "source": [
        "idx2label"
      ],
      "execution_count": 6,
      "outputs": [
        {
          "output_type": "execute_result",
          "data": {
            "text/plain": [
              "{0: 'Miscellaneous',\n",
              " 1: 'Language and literature',\n",
              " 2: 'Media and drama',\n",
              " 3: 'Natural sciences',\n",
              " 4: 'Agriculture, food and drink',\n",
              " 5: 'History',\n",
              " 6: 'Mathematics',\n",
              " 7: 'Art and architecture',\n",
              " 8: 'Warfare',\n",
              " 9: 'Video games',\n",
              " 10: 'Geography and places',\n",
              " 11: 'Philosophy and religion',\n",
              " 12: 'Sports and recreation',\n",
              " 13: 'Music',\n",
              " 14: 'Engineering and technology',\n",
              " 15: 'Social sciences and society'}"
            ]
          },
          "metadata": {
            "tags": []
          },
          "execution_count": 6
        }
      ]
    },
    {
      "cell_type": "code",
      "metadata": {
        "id": "CuD_JITlt_3a",
        "colab_type": "code",
        "outputId": "476a0b1a-269d-404b-fe4e-d4297e22cfbd",
        "colab": {
          "base_uri": "https://localhost:8080/",
          "height": 34
        }
      },
      "source": [
        "def get_word2idx(dic, min_freq=3):\n",
        "  index_dic = {}\n",
        "  i = 0\n",
        "  index_dic['<pad>'] = i # 0 for pad\n",
        "  i += 1\n",
        "  index_dic['<unk>'] = i # 1 for unk\n",
        "  i += 1\n",
        "  for k,v in dic.items():\n",
        "    if v >= min_freq:\n",
        "      index_dic[k] = i\n",
        "      i += 1\n",
        "  return index_dic\n",
        "\n",
        "word2idx_train_orig = get_word2idx(word_dict_train)\n",
        "print(\"length of indexed vocab\", len(word2idx_train_orig))"
      ],
      "execution_count": 16,
      "outputs": [
        {
          "output_type": "stream",
          "text": [
            "length of indexed vocab 61867\n"
          ],
          "name": "stdout"
        }
      ]
    },
    {
      "cell_type": "code",
      "metadata": {
        "id": "qaQS_eCnHtrf",
        "colab_type": "code",
        "colab": {
          "base_uri": "https://localhost:8080/",
          "height": 173
        },
        "outputId": "43a1113d-4e2a-4631-d479-c3768eafa57c"
      },
      "source": [
        "n_features = 300\n",
        "\n",
        "# encode sentence to a list of int without padding\n",
        "def text_to_vector_no_pad(text):\n",
        "  # remove weird characters\n",
        "  s = re.sub(r\"[^A-Za-z0-9()!#$%&*+,./:;<=>?\\[\\\\\\]{|~}\\\"\\-\\'\\`]\", \" \", text)\n",
        "  sent = s.split()\n",
        "  ret = [1]*len(sent)\n",
        "  for i in range(len(sent)):\n",
        "    wd = sent[i]\n",
        "    if wd in word2idx_train:\n",
        "      ret[i] = word2idx_train[wd]\n",
        "  return ret\n",
        "\n",
        "\n",
        "\n",
        "def get_feature_no_pad(data):\n",
        "  feat = []\n",
        "  for sent in data:\n",
        "    v = text_to_vector_no_pad(sent)\n",
        "    feat.append(v)\n",
        "  return np.array(feat)\n",
        "\n",
        "feature_train = get_feature_no_pad(x_train)\n",
        "feature_train"
      ],
      "execution_count": 439,
      "outputs": [
        {
          "output_type": "execute_result",
          "data": {
            "text/plain": [
              "array([list([2, 3, 4, 5, 6, 7, 8, 9, 10, 11, 12, 13, 14, 15, 8, 16, 17, 18, 19, 20, 13, 21, 22, 14, 23, 24, 18, 19, 20, 13, 25, 26, 27, 28, 29, 30, 18, 19, 20, 13, 14, 31, 9, 18, 32, 19, 20, 13, 33, 34, 35, 14, 36, 37, 38]),\n",
              "       list([39, 40, 41, 42, 35, 43, 3, 44, 45, 46, 47, 18, 48, 49, 35, 14, 50, 51, 13, 52, 53, 54, 35, 55, 38]),\n",
              "       list([56, 57, 58, 59, 13, 60, 61, 62, 18, 35, 63, 64, 3, 65, 66, 27, 67, 14, 68, 69, 30, 46, 19, 37, 70, 3, 71, 72, 32, 73, 74, 3, 19, 75, 76, 3, 77, 1, 38]),\n",
              "       ...,\n",
              "       list([56, 4292, 165, 2368, 13, 1471, 3823, 27, 2645, 38, 3330, 35, 30, 3125, 32, 2003, 3823, 27, 801, 38, 3870, 35, 30, 12017, 32, 8808, 4954, 13, 19, 933, 38]),\n",
              "       list([3018, 229, 18, 19, 31330, 3, 9055, 6585, 12696, 344, 35, 5435, 32, 4571, 18, 46, 54844, 4517, 2740, 34041, 18, 29669, 54633, 18, 1, 14608, 952, 54633, 18, 32, 47634, 54633, 107, 35, 380, 63, 67, 14, 1049, 3, 2974, 763, 199, 1635, 38]),\n",
              "       list([284, 4597, 4919, 1072, 19, 2787, 197, 724, 18, 811, 87, 9670, 1119, 599, 4705, 2908, 18, 963, 6537, 3111, 7986, 18, 265, 45, 3000, 35, 19, 24623, 22, 14042, 3733, 459, 19, 2470, 32, 212, 227, 2240, 1339, 38])],\n",
              "      dtype=object)"
            ]
          },
          "metadata": {
            "tags": []
          },
          "execution_count": 439
        }
      ]
    },
    {
      "cell_type": "code",
      "metadata": {
        "id": "uIrjZHX9dgtr",
        "colab_type": "code",
        "outputId": "26f29ecb-12f1-404a-a2dc-77c749c0ac14",
        "colab": {
          "base_uri": "https://localhost:8080/",
          "height": 34
        }
      },
      "source": [
        "def encode_label(label):\n",
        "  encode = []\n",
        "  for l in label:\n",
        "    if l == 'Media and darama': l = 'Media and drama'\n",
        "    encode.append(label2idx_dict[l])\n",
        "  return np.array(encode)\n",
        "\n",
        "y_train_encode = encode_label(y_train)\n",
        "y_train_encode"
      ],
      "execution_count": 440,
      "outputs": [
        {
          "output_type": "execute_result",
          "data": {
            "text/plain": [
              "array([ 2,  9,  2, ...,  3, 11,  8])"
            ]
          },
          "metadata": {
            "tags": []
          },
          "execution_count": 440
        }
      ]
    },
    {
      "cell_type": "code",
      "metadata": {
        "id": "YTgbMp6BOvDb",
        "colab_type": "code",
        "outputId": "93b6ba62-b54b-462e-f89e-2bc490642d7a",
        "colab": {
          "base_uri": "https://localhost:8080/",
          "height": 34
        }
      },
      "source": [
        "x_valid, y_valid, _, length_vec_valid = load_data(valid_path)\n",
        "print(\"total valid set: \", len(x_valid))\n",
        "\n",
        "feature_valid = get_feature_no_pad(x_valid)\n",
        "y_valid_encode = encode_label(y_valid)"
      ],
      "execution_count": 442,
      "outputs": [
        {
          "output_type": "stream",
          "text": [
            "total valid set:  643\n"
          ],
          "name": "stdout"
        }
      ]
    },
    {
      "cell_type": "code",
      "metadata": {
        "id": "wzy2P570TWyD",
        "colab_type": "code",
        "outputId": "3f210d82-c7d6-4143-b9a2-4be5f752c0bb",
        "colab": {
          "base_uri": "https://localhost:8080/",
          "height": 34
        }
      },
      "source": [
        "x_test, y_test_fake, _, _ = load_data(test_path)\n",
        "print(\"total test set: \", len(x_test))\n",
        "\n",
        "feature_test = get_feature_no_pad(x_test)"
      ],
      "execution_count": 443,
      "outputs": [
        {
          "output_type": "stream",
          "text": [
            "total test set:  697\n"
          ],
          "name": "stdout"
        }
      ]
    },
    {
      "cell_type": "code",
      "metadata": {
        "id": "_lzC6z5A5wg1",
        "colab_type": "code",
        "colab": {}
      },
      "source": [
        "# save and load data\n",
        "def save(data, title):\n",
        "  pickle.dump(data, open( home_dir + title + \".pkl\", \"wb\" ))\n",
        "\n",
        "def load(title):\n",
        "  data = pickle.load(open( home_dir + title + \".pkl\", \"rb\" )) \n",
        "  return data"
      ],
      "execution_count": 0,
      "outputs": []
    },
    {
      "cell_type": "code",
      "metadata": {
        "id": "9UyOYk41t_wg",
        "colab_type": "code",
        "colab": {}
      },
      "source": [
        "def get_word_embedding_matrix(word2idx_dict):\n",
        "    # randomize embedding\n",
        "    M = (np.random.rand(len(word2idx_dict), 300)-0.5)/2\n",
        "    pretrain_used = 0\n",
        "    with open(home_dir + 'cc.en.300.vec', 'r') as f:\n",
        "      total_pretrained_vec, dim = f.readline().split()\n",
        "      print(\"total pretrained vec:\", total_pretrained_vec, \"dim:\", dim)\n",
        "      for line in f:\n",
        "        tokens = line.rstrip().split(' ')\n",
        "        word = tokens[0]\n",
        "        if word in word2idx_dict:\n",
        "          M[word2idx_dict[word]] = np.array(tokens[1:])\n",
        "          pretrain_used += 1\n",
        "\n",
        "      print(\"%s out of %s (%f%%) words has pretrained embedding\" % (pretrain_used, len(word2idx_dict), pretrain_used/len(word2idx_dict)) )\n",
        "\n",
        "      return M"
      ],
      "execution_count": 0,
      "outputs": []
    },
    {
      "cell_type": "code",
      "metadata": {
        "id": "ONwbJZ3y2YVn",
        "colab_type": "code",
        "colab": {}
      },
      "source": [
        "embedding = get_word_embedding_matrix(word2idx_train)\n",
        "save(embedding, \"embedding\")"
      ],
      "execution_count": 0,
      "outputs": []
    },
    {
      "cell_type": "code",
      "metadata": {
        "id": "LTmEM4cY6kNr",
        "colab_type": "code",
        "outputId": "fe76286a-af89-4e28-d324-16e68791ccd2",
        "colab": {
          "base_uri": "https://localhost:8080/",
          "height": 34
        }
      },
      "source": [
        "embedding = load(\"embedding\")\n",
        "embedding.shape"
      ],
      "execution_count": 9,
      "outputs": [
        {
          "output_type": "execute_result",
          "data": {
            "text/plain": [
              "(61867, 300)"
            ]
          },
          "metadata": {
            "tags": []
          },
          "execution_count": 9
        }
      ]
    },
    {
      "cell_type": "markdown",
      "metadata": {
        "id": "O7C43m88bN9H",
        "colab_type": "text"
      },
      "source": [
        "# Model Train"
      ]
    },
    {
      "cell_type": "markdown",
      "metadata": {
        "id": "3PRkpTjKbWAF",
        "colab_type": "text"
      },
      "source": [
        "### Cite: https://www.analyticsvidhya.com/blog/2020/01/first-text-classification-in-pytorch/"
      ]
    },
    {
      "cell_type": "code",
      "metadata": {
        "id": "3IP2UPj8OPBH",
        "colab_type": "code",
        "colab": {}
      },
      "source": [
        "import torch   \n",
        "from torchtext import data    \n",
        "import torch.nn as nn\n",
        "import torch.optim as optim\n",
        "from torchtext.data import Field\n",
        "\n",
        "#Cuda algorithms\n",
        "torch.backends.cudnn.deterministic = True  "
      ],
      "execution_count": 0,
      "outputs": []
    },
    {
      "cell_type": "code",
      "metadata": {
        "id": "gG9sbNj-VWbm",
        "colab_type": "code",
        "colab": {}
      },
      "source": [
        "# train dataframe to csv\n",
        "df_train = pd.DataFrame(list(zip(x_train, y_train_encode)), columns =['text', 'label'])\n",
        "df_train.to_csv(home_dir+\"train_topicclass.csv\")"
      ],
      "execution_count": 0,
      "outputs": []
    },
    {
      "cell_type": "code",
      "metadata": {
        "id": "m0m0GMPvOgxm",
        "colab_type": "code",
        "colab": {
          "base_uri": "https://localhost:8080/",
          "height": 54
        },
        "outputId": "3571d0f4-f00c-411c-ce84-400fb20d6377"
      },
      "source": [
        "# load data from csv\n",
        "tokenize = lambda x: x.split()\n",
        "\n",
        "TEXT = Field(sequential=True, tokenize=tokenize, lower=True, include_lengths=True)\n",
        "LABEL = Field(sequential=False, use_vocab=False)\n",
        "\n",
        "fields = [(None, None), ('text',TEXT),('label', LABEL)]\n",
        "train_data=data.TabularDataset(path = home_dir+'train_topicclass.csv',format = 'csv',fields = fields,skip_header = True)\n",
        "\n",
        "print(vars(train_data.examples[0]))"
      ],
      "execution_count": 171,
      "outputs": [
        {
          "output_type": "stream",
          "text": [
            "{'text': ['several', 'of', 'these', 'rights', 'regulate', 'pre', '-', 'trial', 'procedure', ':', 'access', 'to', 'a', 'non', '-', 'excessive', 'bail', ',', 'the', 'right', 'to', 'indictment', 'by', 'a', 'grand', 'jury', ',', 'the', 'right', 'to', 'an', 'information', '(', 'charging', 'document', ')', ',', 'the', 'right', 'to', 'a', 'speedy', 'trial', ',', 'and', 'the', 'right', 'to', 'be', 'tried', 'in', 'a', 'specific', 'venue', '.'], 'label': '2'}\n"
          ],
          "name": "stdout"
        }
      ]
    },
    {
      "cell_type": "code",
      "metadata": {
        "id": "M0ojd05oOlLB",
        "colab_type": "code",
        "colab": {}
      },
      "source": [
        "# valid dataframe to csv\n",
        "df_valid = pd.DataFrame(list(zip(x_valid, y_valid_encode)), columns =['text', 'label'])\n",
        "df_valid.to_csv(home_dir+\"valid_topicclass.csv\")"
      ],
      "execution_count": 0,
      "outputs": []
    },
    {
      "cell_type": "code",
      "metadata": {
        "id": "3ElALAhZVVxp",
        "colab_type": "code",
        "colab": {
          "base_uri": "https://localhost:8080/",
          "height": 54
        },
        "outputId": "2c86bdd2-73f5-444a-c991-7e44074e61f1"
      },
      "source": [
        "# load from csv\n",
        "valid_data=data.TabularDataset(path = home_dir+'valid_topicclass.csv',format = 'csv',fields = fields,skip_header = True)\n",
        "print(vars(valid_data.examples[0]))"
      ],
      "execution_count": 172,
      "outputs": [
        {
          "output_type": "stream",
          "text": [
            "{'text': ['the', 'm', 'ori', 'players', 'initially', 'provoked', 'curiosity', 'due', 'to', 'their', 'race', ',', 'but', 'the', 'british', 'press', 'subsequently', 'expressed', 'some', 'surprise', 'that', 'the', 'side', 'was', 'not', 'as', '\"', 'm', 'ori', '\"', 'as', 'they', 'had', 'expected', '.'], 'label': '9'}\n"
          ],
          "name": "stdout"
        }
      ]
    },
    {
      "cell_type": "code",
      "metadata": {
        "id": "-aRXtM9cOn9Q",
        "colab_type": "code",
        "colab": {}
      },
      "source": [
        "# test dataframe to csv\n",
        "df_test = pd.DataFrame(list(zip(x_test, [16]*len(x_test))), columns =['text', 'label'])\n",
        "df_test.to_csv(home_dir+\"test_topicclass.csv\")"
      ],
      "execution_count": 0,
      "outputs": []
    },
    {
      "cell_type": "code",
      "metadata": {
        "id": "xRlSRPYN8O_J",
        "colab_type": "code",
        "colab": {
          "base_uri": "https://localhost:8080/",
          "height": 54
        },
        "outputId": "bbb87a5a-5621-4665-f84d-7a28e45147c9"
      },
      "source": [
        "# load from csv\n",
        "test_data=data.TabularDataset(path = home_dir+'test_topicclass.csv',format = 'csv',fields = fields,skip_header = True)\n",
        "print(vars(test_data.examples[0]))"
      ],
      "execution_count": 173,
      "outputs": [
        {
          "output_type": "stream",
          "text": [
            "{'text': ['ny', '93', 'was', 'moved', 'onto', 'ny', '104', 'and', 'junction', 'road', 'in', 'cambria', 'in', 'the', '1940s', ',', 'and', 'altered', 'to', 'bypass', 'lockport', 'to', 'the', 'south', 'on', 'a', 'new', 'highway', 'and', 'robinson', 'and', 'dysinger', 'roads', 'in', '1991', '.'], 'label': '16'}\n"
          ],
          "name": "stdout"
        }
      ]
    },
    {
      "cell_type": "code",
      "metadata": {
        "id": "ePxXAfdUW_71",
        "colab_type": "code",
        "colab": {
          "base_uri": "https://localhost:8080/",
          "height": 51
        },
        "outputId": "23bdb84d-d1c4-4504-c2f9-b1295a3cb40b"
      },
      "source": [
        "# glove embeddings\n",
        "TEXT.build_vocab(train_data,min_freq=3, vectors = \"glove.6B.300d\")  \n",
        "# TEXT.build_vocab(train_data, min_freq=3)  \n",
        "LABEL.build_vocab(train_data)\n",
        "\n",
        "# number of unique tokens\n",
        "print(\"Size of text vocab:\",len(TEXT.vocab))\n",
        "\n",
        "# number of unique label\n",
        "print(\"Size of label:\",len(LABEL.vocab)) "
      ],
      "execution_count": 174,
      "outputs": [
        {
          "output_type": "stream",
          "text": [
            "Size of text vocab: 54083\n",
            "Size of label: 17\n"
          ],
          "name": "stdout"
        }
      ]
    },
    {
      "cell_type": "code",
      "metadata": {
        "id": "x2BB5fabZ7So",
        "colab_type": "code",
        "colab": {}
      },
      "source": [
        "word2idx_train = TEXT.vocab.stoi"
      ],
      "execution_count": 0,
      "outputs": []
    },
    {
      "cell_type": "code",
      "metadata": {
        "id": "R21aT44gO2O-",
        "colab_type": "code",
        "colab": {}
      },
      "source": [
        "\n",
        "def get_word_embedding_matrix(word2idx_dict):\n",
        "    # randomize embedding\n",
        "    M = (np.random.rand(len(word2idx_dict), 300)-0.5)/2\n",
        "    pretrain_used = 0\n",
        "    with open(home_dir + 'cc.en.300.vec', 'r') as f:\n",
        "      total_pretrained_vec, dim = f.readline().split()\n",
        "      print(\"total pretrained vec:\", total_pretrained_vec, \"dim:\", dim)\n",
        "      for line in f:\n",
        "        tokens = line.rstrip().split(' ')\n",
        "        word = tokens[0]\n",
        "        if word in word2idx_dict:\n",
        "          M[word2idx_dict[word]] = np.array(tokens[1:])\n",
        "          pretrain_used += 1\n",
        "\n",
        "      print(\"%s out of %s (%f) words has pretrained embedding\" % (pretrain_used, len(word2idx_dict), pretrain_used/len(word2idx_dict)) )\n",
        "      return M\n",
        "\n",
        "embedding = get_word_embedding_matrix(word2idx_train)\n"
      ],
      "execution_count": 0,
      "outputs": []
    },
    {
      "cell_type": "code",
      "metadata": {
        "id": "HxQcXzgTX929",
        "colab_type": "code",
        "colab": {
          "base_uri": "https://localhost:8080/",
          "height": 34
        },
        "outputId": "4cd7bb11-cb13-484d-cf8e-c480b7a6daf5"
      },
      "source": [
        "save(embedding, \"embedding_no_pad_lower\")\n",
        "embedding.shape"
      ],
      "execution_count": 48,
      "outputs": [
        {
          "output_type": "execute_result",
          "data": {
            "text/plain": [
              "(54083, 300)"
            ]
          },
          "metadata": {
            "tags": []
          },
          "execution_count": 48
        }
      ]
    },
    {
      "cell_type": "code",
      "metadata": {
        "id": "1hOysphwZuR8",
        "colab_type": "code",
        "colab": {}
      },
      "source": [
        "# check cuda\n",
        "device = torch.device('cuda' if torch.cuda.is_available() else 'cpu')  \n",
        "\n",
        "#set batch size\n",
        "BATCH_SIZE = 32\n",
        "\n",
        "#Load an iterator\n",
        "train_iterator, valid_iterator = data.BucketIterator.splits(\n",
        "    (train_data, valid_data), \n",
        "    batch_size = BATCH_SIZE,\n",
        "    sort_key = lambda x: len(x.text),\n",
        "    sort_within_batch=True,\n",
        "    device = device)"
      ],
      "execution_count": 0,
      "outputs": []
    },
    {
      "cell_type": "code",
      "metadata": {
        "id": "5t-4cV3KZ2fJ",
        "colab_type": "code",
        "colab": {}
      },
      "source": [
        "class classifier(nn.Module):\n",
        "    \n",
        "    #define all the layers used in model\n",
        "    def __init__(self, vocab_size, embedding_dim, hidden_dim, output_dim, n_layers, \n",
        "                 bidirectional, dropout):\n",
        "        \n",
        "        #Constructor\n",
        "        super().__init__()          \n",
        "        \n",
        "        #embedding layer\n",
        "        self.embedding = nn.Embedding(vocab_size, embedding_dim)\n",
        "        \n",
        "        #lstm layer\n",
        "        self.lstm = nn.LSTM(embedding_dim, \n",
        "                           hidden_dim, \n",
        "                           num_layers=n_layers, \n",
        "                           bidirectional=bidirectional, \n",
        "                           dropout=dropout,\n",
        "                           batch_first=True)\n",
        "        \n",
        "        #dense layer\n",
        "        self.fc = nn.Linear(hidden_dim * 2, output_dim)\n",
        "        \n",
        "        #activation function\n",
        "        self.act = nn.Sigmoid()\n",
        "        \n",
        "    def forward(self, text, text_lengths):\n",
        "        \n",
        "        text = torch.transpose(text, 0, 1) # [batch size, sent_length]\n",
        "        \n",
        "        embedded = self.embedding(text) # [batch size, sent_len, emb dim]\n",
        "        \n",
        "        # packed sequence\n",
        "        packed_embedded = nn.utils.rnn.pack_padded_sequence(embedded, text_lengths, batch_first=True)\n",
        "        \n",
        "        packed_output, (hidden, cell) = self.lstm(packed_embedded)\n",
        "        \n",
        "        # concat the final forward and backward hidden state\n",
        "        hidden = torch.cat((hidden[-2, :, :], hidden[-1, :, :]), dim = 1) # [batch size, hid dim * num directions]\n",
        "        \n",
        "        dense_outputs = self.fc(hidden)\n",
        "\n",
        "        # Final activation function\n",
        "        outputs=self.act(dense_outputs)\n",
        "\n",
        "        return outputs"
      ],
      "execution_count": 0,
      "outputs": []
    },
    {
      "cell_type": "code",
      "metadata": {
        "id": "pr-OKMdiZ2cY",
        "colab_type": "code",
        "colab": {
          "base_uri": "https://localhost:8080/",
          "height": 119
        },
        "outputId": "41308a3d-b76a-4a96-f4d1-c6c7e264657d"
      },
      "source": [
        "#define hyperparameters\n",
        "n_features = 300\n",
        "num_classes = 16\n",
        "\n",
        "size_of_vocab = len(TEXT.vocab)\n",
        "embedding_dim = n_features\n",
        "num_output_nodes = num_classes\n",
        "num_hidden_nodes = 128\n",
        "num_layers = 2\n",
        "dropout = 0.3\n",
        "lr = 0.0005\n",
        "\n",
        "#instantiate the model\n",
        "model = classifier(size_of_vocab, embedding_dim, num_hidden_nodes,num_output_nodes, num_layers, \n",
        "                   bidirectional=True, dropout = dropout)\n",
        "print(model)"
      ],
      "execution_count": 188,
      "outputs": [
        {
          "output_type": "stream",
          "text": [
            "classifier(\n",
            "  (embedding): Embedding(54083, 300)\n",
            "  (lstm): LSTM(300, 128, num_layers=2, batch_first=True, dropout=0.3, bidirectional=True)\n",
            "  (fc): Linear(in_features=256, out_features=16, bias=True)\n",
            "  (act): Sigmoid()\n",
            ")\n"
          ],
          "name": "stdout"
        }
      ]
    },
    {
      "cell_type": "code",
      "metadata": {
        "id": "nk7SmzQ8dqir",
        "colab_type": "code",
        "colab": {
          "base_uri": "https://localhost:8080/",
          "height": 34
        },
        "outputId": "91150653-5cf1-4535-be11-47a30da2b089"
      },
      "source": [
        "#Initialize the pretrained embedding\n",
        "pretrained_embeddings = TEXT.vocab.vectors\n",
        "model.embedding.weight.data.copy_(pretrained_embeddings)\n",
        "print(pretrained_embeddings.shape)\n",
        "\n",
        "\n",
        "# embedding = load(\"embedding_no_pad_lower\")\n",
        "# embedding = torch.from_numpy(embedding)\n",
        "# model.embedding.weight.data.copy_(embedding)\n",
        "# embedding.shape"
      ],
      "execution_count": 189,
      "outputs": [
        {
          "output_type": "stream",
          "text": [
            "torch.Size([54083, 300])\n"
          ],
          "name": "stdout"
        }
      ]
    },
    {
      "cell_type": "code",
      "metadata": {
        "id": "arMEIqh7aHfg",
        "colab_type": "code",
        "colab": {}
      },
      "source": [
        "#define optimizer and loss\n",
        "optimizer = optim.Adam(model.parameters())\n",
        "criterion = nn.CrossEntropyLoss()\n",
        "\n",
        "# define metric\n",
        "def calculate_accuracy(preds, y):\n",
        "    predict = torch.argmax(preds, dim=-1)\n",
        "    acc = torch.sum(predict == y).float()/len(predict)\n",
        "    return acc\n",
        "    \n",
        "# push to cuda if available\n",
        "model = model.to(device)\n",
        "criterion = criterion.to(device)"
      ],
      "execution_count": 0,
      "outputs": []
    },
    {
      "cell_type": "code",
      "metadata": {
        "id": "LMVG0ugCaHcq",
        "colab_type": "code",
        "colab": {}
      },
      "source": [
        "def train(model, iterator, optimizer, criterion):\n",
        "    \n",
        "    #initialize every epoch \n",
        "    epoch_loss = 0\n",
        "    epoch_acc = 0\n",
        "    \n",
        "    #set the model in training phase\n",
        "    model.train()  \n",
        "    \n",
        "    for batch in iterator:\n",
        "        \n",
        "        #resets the gradients after every batch\n",
        "        optimizer.zero_grad()   \n",
        "        \n",
        "        #retrieve text and no. of words\n",
        "        text, text_lengths = batch.text\n",
        "        \n",
        "        #convert to 1D tensor\n",
        "        predictions = model(text, text_lengths).squeeze()  \n",
        "        \n",
        "        #compute the loss\n",
        "        loss = criterion(predictions, batch.label)        \n",
        "        \n",
        "        #compute the binary accuracy\n",
        "        acc = calculate_accuracy(predictions, batch.label)   \n",
        "        \n",
        "        #backpropage the loss and compute the gradients\n",
        "        loss.backward()       \n",
        "        \n",
        "        #update the weights\n",
        "        optimizer.step()      \n",
        "        \n",
        "        #loss and accuracy\n",
        "        epoch_loss += loss.item()  \n",
        "        epoch_acc += acc.item()    \n",
        "        \n",
        "    return epoch_loss / len(iterator), epoch_acc / len(iterator)"
      ],
      "execution_count": 0,
      "outputs": []
    },
    {
      "cell_type": "code",
      "metadata": {
        "id": "FtI8WIHR0Fp3",
        "colab_type": "code",
        "colab": {}
      },
      "source": [
        "def save_model(model, ep):\n",
        "  torch.save(model.state_dict(), home_dir+\"no_pad_ass1_epoch\"+str(ep)+\".pt\")"
      ],
      "execution_count": 0,
      "outputs": []
    },
    {
      "cell_type": "code",
      "metadata": {
        "id": "zL74h8xcaHaA",
        "colab_type": "code",
        "colab": {}
      },
      "source": [
        "def evaluate(model, iterator, criterion):\n",
        "    \n",
        "    #initialize every epoch\n",
        "    epoch_loss = 0\n",
        "    epoch_acc = 0\n",
        "\n",
        "    #deactivating dropout layers\n",
        "    model.eval()\n",
        "    \n",
        "    #deactivates autograd\n",
        "    with torch.no_grad():\n",
        "    \n",
        "        for batch in iterator:\n",
        "        \n",
        "            #retrieve text and no. of words\n",
        "            text, text_lengths = batch.text\n",
        "            \n",
        "            #convert to 1d tensor\n",
        "            predictions = model(text, text_lengths).squeeze()\n",
        "            \n",
        "            #compute loss and accuracy\n",
        "            loss = criterion(predictions, batch.label)\n",
        "            acc = calculate_accuracy(predictions, batch.label)\n",
        "            \n",
        "            #keep track of loss and accuracy\n",
        "            epoch_loss += loss.item()\n",
        "            epoch_acc += acc.item()\n",
        "        \n",
        "    return epoch_loss / len(iterator), epoch_acc / len(iterator)"
      ],
      "execution_count": 0,
      "outputs": []
    },
    {
      "cell_type": "code",
      "metadata": {
        "id": "Gnp5nASVaBKY",
        "colab_type": "code",
        "colab": {
          "base_uri": "https://localhost:8080/",
          "height": 527
        },
        "outputId": "24c7fd72-f73f-4c85-ea43-5f25366f0c65"
      },
      "source": [
        "N_EPOCHS = 10\n",
        "best_valid_loss = float('inf')\n",
        "\n",
        "for epoch in range(N_EPOCHS):\n",
        "     \n",
        "    #train the model\n",
        "    train_loss, train_acc = train(model, train_iterator, optimizer, criterion)\n",
        "    \n",
        "    #evaluate the model\n",
        "    valid_loss, valid_acc = evaluate(model, valid_iterator, criterion)\n",
        "    \n",
        "    #save the best model\n",
        "    if valid_loss < best_valid_loss:\n",
        "        best_valid_loss = valid_loss\n",
        "        torch.save(model.state_dict(), home_dir+'no_pad_best_epoch.pt')\n",
        "    \n",
        "    print(f'\\tTrain Loss: {train_loss:.3f} | Train Acc: {train_acc*100:.2f}%')\n",
        "    print(f'\\t Val. Loss: {valid_loss:.3f} |  Val. Acc: {valid_acc*100:.2f}%')\n",
        "    save_model(model, epoch)\n",
        "    print(\"saving model\", epoch)"
      ],
      "execution_count": 192,
      "outputs": [
        {
          "output_type": "stream",
          "text": [
            "\tTrain Loss: 2.118 | Train Acc: 57.45%\n",
            "\t Val. Loss: 2.008 |  Val. Acc: 79.91%\n",
            "saving model 0\n",
            "\tTrain Loss: 2.013 | Train Acc: 78.40%\n",
            "\t Val. Loss: 2.006 |  Val. Acc: 80.11%\n",
            "saving model 1\n",
            "\tTrain Loss: 1.985 | Train Acc: 82.96%\n",
            "\t Val. Loss: 2.001 |  Val. Acc: 83.48%\n",
            "saving model 2\n",
            "\tTrain Loss: 1.971 | Train Acc: 84.99%\n",
            "\t Val. Loss: 2.002 |  Val. Acc: 80.06%\n",
            "saving model 3\n",
            "\tTrain Loss: 1.960 | Train Acc: 86.41%\n",
            "\t Val. Loss: 2.014 |  Val. Acc: 80.41%\n",
            "saving model 4\n",
            "\tTrain Loss: 1.953 | Train Acc: 87.38%\n",
            "\t Val. Loss: 2.006 |  Val. Acc: 80.95%\n",
            "saving model 5\n",
            "\tTrain Loss: 1.948 | Train Acc: 88.15%\n",
            "\t Val. Loss: 2.026 |  Val. Acc: 78.47%\n",
            "saving model 6\n",
            "\tTrain Loss: 1.943 | Train Acc: 88.77%\n",
            "\t Val. Loss: 2.034 |  Val. Acc: 78.92%\n",
            "saving model 7\n",
            "\tTrain Loss: 1.940 | Train Acc: 89.36%\n",
            "\t Val. Loss: 2.023 |  Val. Acc: 78.92%\n",
            "saving model 8\n",
            "\tTrain Loss: 1.937 | Train Acc: 89.80%\n",
            "\t Val. Loss: 2.017 |  Val. Acc: 81.25%\n",
            "saving model 9\n"
          ],
          "name": "stdout"
        }
      ]
    },
    {
      "cell_type": "code",
      "metadata": {
        "id": "Z4h6EtXuaBFE",
        "colab_type": "code",
        "colab": {
          "base_uri": "https://localhost:8080/",
          "height": 34
        },
        "outputId": "a48fa27f-71f6-4572-940b-7b5b776f3547"
      },
      "source": [
        "def model_load(name):\n",
        "  model =  classifier(size_of_vocab, embedding_dim, num_hidden_nodes,num_output_nodes, num_layers, \n",
        "                   bidirectional=True, dropout = dropout)\n",
        "  model.load_state_dict(torch.load(home_dir+name))\n",
        "  model.eval()\n",
        "  model.to(device)\n",
        "  return model\n",
        "\n",
        "\n",
        "model = model_load(\"no_pad_best_epoch.pt\")\n",
        "\n",
        "valid_loss, valid_acc = evaluate(model, valid_iterator, criterion)\n",
        "print(valid_acc)"
      ],
      "execution_count": 193,
      "outputs": [
        {
          "output_type": "stream",
          "text": [
            "0.8348214285714286\n"
          ],
          "name": "stdout"
        }
      ]
    },
    {
      "cell_type": "code",
      "metadata": {
        "id": "TdVrjmTBCoz_",
        "colab_type": "code",
        "colab": {}
      },
      "source": [
        "#Load an iterator\n",
        "test_iterator = data.BucketIterator(\n",
        "    test_data, \n",
        "    batch_size = 64,\n",
        "    sort_key = lambda x: len(x.text),\n",
        "    sort_within_batch=False,\n",
        "    device = device,\n",
        "    train=False, shuffle = None)"
      ],
      "execution_count": 0,
      "outputs": []
    },
    {
      "cell_type": "code",
      "metadata": {
        "id": "Z-AYp8toFqUq",
        "colab_type": "code",
        "colab": {}
      },
      "source": [
        "TEXT_to_word = TEXT.vocab.itos\n",
        "word_to_TEXT = TEXT.vocab.stoi"
      ],
      "execution_count": 0,
      "outputs": []
    },
    {
      "cell_type": "code",
      "metadata": {
        "id": "60VcG1vyLp9E",
        "colab_type": "code",
        "colab": {}
      },
      "source": [
        "with open(home_dir+\"dev_results.txt\", \"w\") as f:\n",
        "  for test in valid_data:\n",
        "    t = torch.LongTensor([[word_to_TEXT[w]] for w in test.text]).cuda()\n",
        "    \n",
        "    text_lengths = torch.LongTensor([len(test.text)])\n",
        "    predictions = model(t, text_lengths).squeeze()\n",
        "    predict = torch.argmax(predictions, dim=-1)\n",
        "    f.write(idx2label[predict.item()]+\"\\n\")"
      ],
      "execution_count": 0,
      "outputs": []
    },
    {
      "cell_type": "code",
      "metadata": {
        "id": "02dCK09CNiXH",
        "colab_type": "code",
        "colab": {}
      },
      "source": [
        "with open(home_dir+\"test_results.txt\", \"w\") as f:\n",
        "  for test in test_data:\n",
        "    t = torch.LongTensor([[word_to_TEXT[w]] for w in test.text]).cuda()\n",
        "    \n",
        "    text_lengths = torch.LongTensor([len(test.text)])\n",
        "    predictions = model(t, text_lengths).squeeze()\n",
        "    predict = torch.argmax(predictions, dim=-1)\n",
        "    f.write(idx2label[predict.item()]+\"\\n\")"
      ],
      "execution_count": 0,
      "outputs": []
    },
    {
      "cell_type": "code",
      "metadata": {
        "id": "s1GZPz_kfDIQ",
        "colab_type": "code",
        "colab": {}
      },
      "source": [
        ""
      ],
      "execution_count": 0,
      "outputs": []
    }
  ]
}